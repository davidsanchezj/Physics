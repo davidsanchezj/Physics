{
 "cells": [
  {
   "cell_type": "markdown",
   "id": "86d0d8fb-945f-41d7-b866-ff80db15ffaa",
   "metadata": {},
   "source": [
    "# Scale of Temperature"
   ]
  },
  {
   "cell_type": "markdown",
   "id": "3863a1d3-6fd0-4ac1-acc5-1367e3c580e9",
   "metadata": {},
   "source": [
    "Some sources https://cryo.gsfc.nasa.gov/introduction/temp_scales.html and https://pages.uoregon.edu/jschombe/glossary/temperature_scale.html"
   ]
  },
  {
   "cell_type": "markdown",
   "id": "b1f4564a-b9e8-4d3a-b59e-cfd5f35cf494",
   "metadata": {},
   "source": [
    "## Celsius scale\n",
    "The Celsius scale, also known as the centigrade scale, is based on the freezing and boiling points of water. At standard atmospheric pressure, water freezes at 0°C and boils at 100°C. This scale is used in most countries around the world and is based on the metric system."
   ]
  },
  {
   "cell_type": "code",
   "execution_count": 24,
   "id": "967f4d67-20a0-4c29-9020-b456e0665fea",
   "metadata": {},
   "outputs": [
    {
     "name": "stdin",
     "output_type": "stream",
     "text": [
      "Submit the temperature in Fahrenheit:  100\n"
     ]
    },
    {
     "name": "stdout",
     "output_type": "stream",
     "text": [
      "100.0°F are equal to 37.77777777777778°C \n"
     ]
    }
   ],
   "source": [
    "# Fahrenheit to Celsius\n",
    "\n",
    "Fdegree = float(input(\"Submit the temperature in Fahrenheit: \"))\n",
    "\n",
    "# We apply the conversion formula to Celsius\n",
    "\n",
    "Cdegree = (Fdegree - 32) * (5 / 9)\n",
    "\n",
    "print(f\"{Fdegree}°F are equal to {Cdegree}°C \")\n"
   ]
  },
  {
   "cell_type": "code",
   "execution_count": 20,
   "id": "7d0420bb-aa45-4e06-84f9-e89de292c844",
   "metadata": {},
   "outputs": [
    {
     "name": "stdin",
     "output_type": "stream",
     "text": [
      "Submit the temperature in Kelvin:  723.15\n"
     ]
    },
    {
     "name": "stdout",
     "output_type": "stream",
     "text": [
      "723.15K are equal to 450.0°C \n"
     ]
    }
   ],
   "source": [
    "# Kelvin to Celsius\n",
    "\n",
    "Kdegree = float(input(\"Submit the temperature in Kelvin: \"))\n",
    "\n",
    "# We apply the conversion formula to Celsius\n",
    "\n",
    "Cdegree = Kdegree - 273.15\n",
    "\n",
    "print(f\"{Kdegree}K are equal to {Cdegree}°C \")\n"
   ]
  },
  {
   "cell_type": "markdown",
   "id": "f4f23991-1cca-4614-aac1-690d0f3f49b7",
   "metadata": {},
   "source": [
    "## Fahrenheit scale\n",
    "The Fahrenheit scale is based on the freezing and boiling points of water as well, but the numerical values are different than on the Celsius scale. At standard atmospheric pressure, water freezes at 32°F and boils at 212°F. This scale is used mainly in the United States, the Bahamas, Belize, and the Cayman Islands."
   ]
  },
  {
   "cell_type": "code",
   "execution_count": 26,
   "id": "9607db4d-6cfa-49b9-9d11-644d709fff65",
   "metadata": {},
   "outputs": [
    {
     "name": "stdin",
     "output_type": "stream",
     "text": [
      "Submit the temperature in Celsius:  23\n"
     ]
    },
    {
     "name": "stdout",
     "output_type": "stream",
     "text": [
      "23.0°C are equal to 73.4°F \n"
     ]
    }
   ],
   "source": [
    "# Celsius to Fahrenheit\n",
    "\n",
    "Cdegree = float(input(\"Submit the temperature in Celsius: \"))\n",
    "\n",
    "# We apply the conversion formula to Fahrenheit\n",
    "\n",
    "Fdegree = ( Cdegree * (9 / 5) ) + 32\n",
    "\n",
    "print(f\"{Cdegree}°C are equal to {Fdegree}°F \")"
   ]
  },
  {
   "cell_type": "code",
   "execution_count": 27,
   "id": "5ef7fdb4-3e50-48a6-8957-b8879c81cca1",
   "metadata": {},
   "outputs": [
    {
     "name": "stdin",
     "output_type": "stream",
     "text": [
      "Submit the temperature in Kelvin:  450\n"
     ]
    },
    {
     "name": "stdout",
     "output_type": "stream",
     "text": [
      "450.0K are equal to 350.33000000000004°F \n"
     ]
    }
   ],
   "source": [
    "# Kelvin to Fahrenheit\n",
    "\n",
    "Kdegree = float(input(\"Submit the temperature in Kelvin: \"))\n",
    "\n",
    "# We apply the conversion formula to Fahrenheit\n",
    "\n",
    "Fdegree = ( ( Kdegree - 273.15 ) * 9 ) / 5 + 32\n",
    "\n",
    "print(f\"{Kdegree}K are equal to {Fdegree}°F \")"
   ]
  },
  {
   "cell_type": "markdown",
   "id": "affecef2-356c-4676-9f77-3de44b08c5c6",
   "metadata": {},
   "source": [
    "## Kelvin scale\n",
    "The Kelvin scale is based on the theoretical concept of absolute zero, which is the lowest possible temperature, where all molecular motion would cease. The Kelvin scale has the same size of degree as the Celsius scale, but its zero point is -273.15°C, which is equivalent to 0 Kelvin. This scale is used in scientific and technical applications, such as in the study of thermodynamics, as it is a more fundamental scale than the Celsius or Fahrenheit scales."
   ]
  },
  {
   "cell_type": "code",
   "execution_count": 28,
   "id": "df716b44-b786-42c3-a43e-5bcbd30c1582",
   "metadata": {},
   "outputs": [
    {
     "name": "stdin",
     "output_type": "stream",
     "text": [
      "Submit the temperature in Fahrenheit:  230\n"
     ]
    },
    {
     "name": "stdout",
     "output_type": "stream",
     "text": [
      "230.0°F are equal to 383.15000000000003K\n"
     ]
    }
   ],
   "source": [
    "# Fahrenheit to Kelvin \n",
    "\n",
    "Fdegree = float(input(\"Submit the temperature in Fahrenheit: \"))\n",
    "\n",
    "# We apply the conversion formula to Kelvin\n",
    "\n",
    "Kdegree = ( Fdegree + 459.67 ) * ( 5 / 9)\n",
    "\n",
    "print(f\"{Fdegree}°F are equal to {Kdegree}K\")"
   ]
  },
  {
   "cell_type": "code",
   "execution_count": 32,
   "id": "c2c8ad9a-4cb9-4658-8762-23c597185afd",
   "metadata": {},
   "outputs": [
    {
     "name": "stdin",
     "output_type": "stream",
     "text": [
      "Submit the temperature in Celsius:  820\n"
     ]
    },
    {
     "name": "stdout",
     "output_type": "stream",
     "text": [
      "820.0°C are equal to 1093.15K\n"
     ]
    }
   ],
   "source": [
    "# Celsius to Kelvin\n",
    "\n",
    "Cdegree = float(input(\"Submit the temperature in Celsius: \"))\n",
    "\n",
    "# We apply the conversion formula to Kelvin\n",
    "\n",
    "Kdegree = Cdegree + 273.15\n",
    "\n",
    "print(f\"{Cdegree}°C are equal to {Kdegree}K\")"
   ]
  },
  {
   "cell_type": "markdown",
   "id": "f50beb7b-f882-460c-8c5f-5282ff3becba",
   "metadata": {},
   "source": [
    "## Question\n",
    "Is there a number that provides the same temperature reading on both the Celsius and Fahrenheit scales? *-40*."
   ]
  }
 ],
 "metadata": {
  "kernelspec": {
   "display_name": "Python 3 (ipykernel)",
   "language": "python",
   "name": "python3"
  },
  "language_info": {
   "codemirror_mode": {
    "name": "ipython",
    "version": 3
   },
   "file_extension": ".py",
   "mimetype": "text/x-python",
   "name": "python",
   "nbconvert_exporter": "python",
   "pygments_lexer": "ipython3",
   "version": "3.10.9"
  }
 },
 "nbformat": 4,
 "nbformat_minor": 5
}
