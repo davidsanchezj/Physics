{
 "cells": [
  {
   "cell_type": "markdown",
   "id": "769fb9af-f928-43a9-9c60-52eb98352fe4",
   "metadata": {},
   "source": [
    "# Reluctance\n",
    "\n",
    "## $\\phi = B A$\n",
    "\n",
    "## $\\phi = \\frac{Ni\\mu_0A_g}{g}$\n",
    "\n",
    "## $R_c = \\frac{l_c}{\\mu A_c}$\n",
    "\n",
    "## $R_g = \\frac{g}{\\mu_0 A_g}$\n",
    "\n",
    "## $F = \\phi (R_c + R_g)$\n",
    "\n",
    "## $ i = \\frac{F}{N}$"
   ]
  },
  {
   "cell_type": "markdown",
   "id": "c95d18ab-4b7b-469a-9fe9-9d5b3f9cc3de",
   "metadata": {},
   "source": [
    "The magnetic circuit shown in Fig. 1.2 has dimensions Ac = Ag = 9 cm2 , g = 0.050 cm,\n",
    "lc = 30 cm, and N = 500 turns. Assume the value μr = 70,000 for core material. (a) Find the\n",
    "reluctances Rc and Rg . For the condition that the magnetic circuit is operating with Bc = 1.0 T,\n",
    "find (b) the flux φ and (c) the current i."
   ]
  },
  {
   "cell_type": "code",
   "execution_count": 13,
   "id": "566ed2c3-ba09-43c1-b7a9-ca81b4916908",
   "metadata": {},
   "outputs": [],
   "source": [
    "import numpy as np"
   ]
  },
  {
   "cell_type": "code",
   "execution_count": 14,
   "id": "75d504d9-9b8e-4704-851e-03798b41d121",
   "metadata": {},
   "outputs": [],
   "source": [
    "A = Ac = Ag = 9 * (1/100)**2\n",
    "g = 0.050 * (1/100)\n",
    "lc = 30 * (1/100)\n",
    "N = 500\n",
    "ur = 70000\n",
    "Bc = 1.0\n",
    "uo = 4 * np.pi * 10**(-7)"
   ]
  },
  {
   "cell_type": "code",
   "execution_count": 44,
   "id": "42f88f24-2e0a-48c0-97a5-da1ce94f2986",
   "metadata": {},
   "outputs": [
    {
     "name": "stdout",
     "output_type": "stream",
     "text": [
      "Rc: 3.79E+03\n"
     ]
    }
   ],
   "source": [
    "Rc = lc / (ur * uo * A)\n",
    "print(f\"Rc: {Rc:.2E}\")"
   ]
  },
  {
   "cell_type": "code",
   "execution_count": 45,
   "id": "aeef2c04-d3d8-4565-bc0d-51d949cf009d",
   "metadata": {},
   "outputs": [
    {
     "name": "stdout",
     "output_type": "stream",
     "text": [
      "Rg: 4.42E+05\n"
     ]
    }
   ],
   "source": [
    "Rg = g / (uo * A)\n",
    "print(f\"Rg: {Rg:.2E}\")"
   ]
  },
  {
   "cell_type": "code",
   "execution_count": 42,
   "id": "df64fd43-8bfb-42b9-b5ed-12d096eaa08e",
   "metadata": {},
   "outputs": [
    {
     "name": "stdout",
     "output_type": "stream",
     "text": [
      "flux: 9.00E-04\n"
     ]
    }
   ],
   "source": [
    "flux = A * Bc\n",
    "print(f\"flux: {flux:.2E}\")"
   ]
  },
  {
   "cell_type": "code",
   "execution_count": 52,
   "id": "a2af13ed-8bef-4276-afbd-6e4911c4f84d",
   "metadata": {},
   "outputs": [],
   "source": [
    "F = flux * (Rc + Rg)"
   ]
  },
  {
   "cell_type": "code",
   "execution_count": 53,
   "id": "28fabe33-0b05-4d5e-ad84-65be1355b232",
   "metadata": {},
   "outputs": [
    {
     "name": "stdout",
     "output_type": "stream",
     "text": [
      "Current = 0.8\n"
     ]
    }
   ],
   "source": [
    "i = F / N\n",
    "print(f\"Current = {i:.2}\")"
   ]
  },
  {
   "cell_type": "markdown",
   "id": "0f4260a0-4d37-4447-a866-4e8804e426d7",
   "metadata": {},
   "source": [
    "Find the flux φ and current for Example 1.1 if (a) the number of turns is doubled to N = 1000\n",
    "turns while the circuit dimensions remain the same and (b) if the number of turns is equal to\n",
    "N = 500 and the gap is reduced to 0.040 cm"
   ]
  },
  {
   "cell_type": "markdown",
   "id": "43d952e0-bb04-47f2-a885-03229ab20927",
   "metadata": {},
   "source": [
    "Flux is dependent on the Area and the density of the magnetic field therefore it will stay the same. \\\n",
    "For (a) and (b): \\\n",
    "$ \\phi = 9.00x10^{-4}$"
   ]
  },
  {
   "cell_type": "code",
   "execution_count": 55,
   "id": "94675344-d9c1-4923-8910-74a992e3c50e",
   "metadata": {},
   "outputs": [
    {
     "name": "stdout",
     "output_type": "stream",
     "text": [
      "ia = 0.4\n"
     ]
    }
   ],
   "source": [
    "ia = F / 1000\n",
    "print(f\"ia = {ia:.2}\")"
   ]
  },
  {
   "cell_type": "code",
   "execution_count": 57,
   "id": "d33e5b10-836d-4894-afa8-bace9cb2b40c",
   "metadata": {},
   "outputs": [
    {
     "name": "stdout",
     "output_type": "stream",
     "text": [
      "ib = 0.64\n"
     ]
    }
   ],
   "source": [
    "Rgb = (0.040 * 1/100 ) / (uo * A)\n",
    "\n",
    "Fb = flux * (Rc + Rgb)\n",
    "\n",
    "ib = Fb / 500\n",
    "\n",
    "print(f\"ib = {ib:.2}\")"
   ]
  },
  {
   "cell_type": "markdown",
   "id": "c4e3e19b-edc8-4046-815d-41b39024ccad",
   "metadata": {},
   "source": [
    "The magnetic structure of a synchronous machine is shown schematically in Fig. 1.5. Assuming\n",
    "that rotor and stator iron have infinite permeability (μ → ∞), find the air-gap flux φ and flux\n",
    "density Bg . For this example I = 10 A, N = 1,000 turns, g = 1 cm, and Ag = 200 cm2 ."
   ]
  },
  {
   "cell_type": "code",
   "execution_count": 58,
   "id": "4f53b44c-d7c5-4421-bc0c-320d98485745",
   "metadata": {},
   "outputs": [],
   "source": [
    "I = 10\n",
    "N = 1000\n",
    "g = 1 * 1/100\n",
    "Ag = 200 * (1/100)**2"
   ]
  },
  {
   "cell_type": "code",
   "execution_count": 60,
   "id": "64a34f72-94a5-45fb-b52a-c471d5c77089",
   "metadata": {},
   "outputs": [
    {
     "name": "stdout",
     "output_type": "stream",
     "text": [
      "flux = 1.26E-02\n"
     ]
    }
   ],
   "source": [
    "flux = N*I*uo*Ag / (2 * g)\n",
    "print(f\"flux = {flux:.2E}\")"
   ]
  },
  {
   "cell_type": "code",
   "execution_count": 66,
   "id": "f72792fc-9eb7-42c0-8377-d86011e6bb39",
   "metadata": {},
   "outputs": [
    {
     "name": "stdout",
     "output_type": "stream",
     "text": [
      "Bg = 0.63\n"
     ]
    }
   ],
   "source": [
    "Bg = flux / Ag\n",
    "print(f\"Bg = {Bg:.2}\")"
   ]
  },
  {
   "cell_type": "markdown",
   "id": "34608e3e-e0b8-450d-8456-a5679f022140",
   "metadata": {},
   "source": [
    "For the magnetic structure of Fig. 1.5 with the dimensions as given in Example 1.2, the air-gap\n",
    "flux density is observed to be Bg = 0.9 T. Find the air-gap flux φ and, for a coil of N = 500\n",
    "turns, the current required to produce this level of air-gap flux."
   ]
  },
  {
   "cell_type": "code",
   "execution_count": 71,
   "id": "ac9db93c-3541-4bb4-b9e8-7415193cc36d",
   "metadata": {},
   "outputs": [
    {
     "name": "stdout",
     "output_type": "stream",
     "text": [
      "flux = 1.80E-02\n"
     ]
    }
   ],
   "source": [
    "flux = 0.9 * Ag\n",
    "print(f\"flux = {flux:.2E}\")"
   ]
  },
  {
   "cell_type": "code",
   "execution_count": 76,
   "id": "be2887d7-0d8e-4e09-b689-0faf72ad0518",
   "metadata": {},
   "outputs": [
    {
     "name": "stdout",
     "output_type": "stream",
     "text": [
      "current = 28.6\n"
     ]
    }
   ],
   "source": [
    "current = (2 * flux * g) / (500 * uo * Ag)\n",
    "print(f\"current = {current:.3}\")"
   ]
  }
 ],
 "metadata": {
  "kernelspec": {
   "display_name": "Python 3 (ipykernel)",
   "language": "python",
   "name": "python3"
  },
  "language_info": {
   "codemirror_mode": {
    "name": "ipython",
    "version": 3
   },
   "file_extension": ".py",
   "mimetype": "text/x-python",
   "name": "python",
   "nbconvert_exporter": "python",
   "pygments_lexer": "ipython3",
   "version": "3.10.9"
  }
 },
 "nbformat": 4,
 "nbformat_minor": 5
}
