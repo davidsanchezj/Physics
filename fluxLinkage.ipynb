{
 "cells": [
  {
   "attachments": {},
   "cell_type": "markdown",
   "metadata": {},
   "source": [
    "# FLUX LINKAGE, INDUCTANCE, AND ENERGY"
   ]
  },
  {
   "attachments": {},
   "cell_type": "markdown",
   "metadata": {},
   "source": [
    "## $\\lambda = N\\phi$\n",
    "## $ L = \\frac{\\lambda}{i}$\n",
    "## $ L = \\frac{N^2}{R_{tot}}$"
   ]
  },
  {
   "attachments": {},
   "cell_type": "markdown",
   "metadata": {},
   "source": [
    "In Example 1.1, the relative permeability of the core material for the magnetic circuit of Fig. 1.2\n",
    "is assumed to be μr = 70, 000 at a flux density of 1.0 T.\n",
    "a. In a practical device, the core would be constructed from electrical steel such as M-5\n",
    "electrical steel which is discussed in Section 1.3. This material is highly nonlinear and its\n",
    "relative permeability (defined for the purposes of this example as the ratio B/H ) varies\n",
    "from a value of approximately μr = 72,300 at a flux density of B = 1.0 T to a value of on\n",
    "the order of μr = 2,900 as the flux density is raised to 1.8 T. Calculate the inductance\n",
    "under the assumption that the relative permeability of the core steel is 72,300.\n",
    "b. Calculate the inductance under the assumption that the relative permeability is equal to\n",
    "2,900."
   ]
  },
  {
   "cell_type": "code",
   "execution_count": 2,
   "metadata": {},
   "outputs": [],
   "source": [
    "import numpy as np\n",
    "import matplotlib.pyplot as plt"
   ]
  },
  {
   "cell_type": "code",
   "execution_count": 3,
   "metadata": {},
   "outputs": [
    {
     "name": "stdout",
     "output_type": "stream",
     "text": [
      "Rc = 3.67E+03\n"
     ]
    }
   ],
   "source": [
    "Rc = 0.3 / (72300*(4*np.pi*10**(-7))*(9*(1/100)**2))\n",
    "print(f\"Rc = {Rc:.2E}\")"
   ]
  },
  {
   "cell_type": "code",
   "execution_count": 4,
   "metadata": {},
   "outputs": [
    {
     "name": "stdout",
     "output_type": "stream",
     "text": [
      "L = 0.561\n"
     ]
    }
   ],
   "source": [
    "L = (500)**2 / (Rc + 4.42*10**(5))\n",
    "print(f\"L = {L:.3}\")"
   ]
  },
  {
   "cell_type": "code",
   "execution_count": 5,
   "metadata": {},
   "outputs": [
    {
     "name": "stdout",
     "output_type": "stream",
     "text": [
      "Rc = 9.15E+04\n",
      "L = 0.469\n"
     ]
    }
   ],
   "source": [
    "Rc = 0.3 / (2900*(4*np.pi*10**(-7))*(9*(1/100)**2))\n",
    "print(f\"Rc = {Rc:.2E}\")\n",
    "L = (500)**2 / (Rc + 4.42*10**(5))\n",
    "print(f\"L = {L:.3}\")"
   ]
  },
  {
   "attachments": {},
   "cell_type": "markdown",
   "metadata": {},
   "source": [
    "Repeat the inductance calculation of Example 1.4 for a relative permeability μr = 30,000."
   ]
  },
  {
   "cell_type": "code",
   "execution_count": 6,
   "metadata": {},
   "outputs": [
    {
     "name": "stdout",
     "output_type": "stream",
     "text": [
      "Rc = 8.84E+03\n",
      "L = 0.555\n"
     ]
    }
   ],
   "source": [
    "Rc = 0.3 / (30000*(4*np.pi*10**(-7))*(9*(1/100)**2))\n",
    "print(f\"Rc = {Rc:.2E}\")\n",
    "L = (500)**2 / (Rc + 4.42*10**(5))\n",
    "print(f\"L = {L:.3}\")"
   ]
  },
  {
   "attachments": {},
   "cell_type": "markdown",
   "metadata": {},
   "source": [
    "Using MATLAB,6 plot the inductance of the magnetic circuit of Example 1.1 and Fig. 1.2 as\n",
    "a function of core permeability over the range 100 ≤ μr ≤ 100,000."
   ]
  },
  {
   "cell_type": "code",
   "execution_count": 49,
   "metadata": {},
   "outputs": [],
   "source": [
    "x = np.linspace(100,100000,10**5)\n",
    "Rc = 0.3 / (x*(4*np.pi*10**(-7))*(9*(1/100)**2))\n",
    "L = (500)**2 / (Rc + 4.42*10**(5))"
   ]
  },
  {
   "cell_type": "code",
   "execution_count": 52,
   "metadata": {},
   "outputs": [
    {
     "data": {
      "image/png": "[encoded data removed]",
      "text/plain": [
       "<Figure size 500x500 with 1 Axes>"
      ]
     },
     "metadata": {},
     "output_type": "display_data"
    }
   ],
   "source": [
    "plt.style.use('fast')\n",
    "plt.figure(figsize=(5,5))\n",
    "\n",
    "plt.plot(x,L)\n",
    "\n",
    "plt.xlabel(\"Core relative permeability\")\n",
    "plt.ylabel(\"Inductance [H]\")\n",
    "\n",
    "plt.show()"
   ]
  }
 ],
 "metadata": {
  "kernelspec": {
   "display_name": "Python 3",
   "language": "python",
   "name": "python3"
  },
  "language_info": {
   "codemirror_mode": {
    "name": "ipython",
    "version": 3
   },
   "file_extension": ".py",
   "mimetype": "text/x-python",
   "name": "python",
   "nbconvert_exporter": "python",
   "pygments_lexer": "ipython3",
   "version": "3.10.9"
  },
  "orig_nbformat": 4
 },
 "nbformat": 4,
 "nbformat_minor": 2
}
